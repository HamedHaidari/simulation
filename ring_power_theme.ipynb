{
 "cells": [
  {
   "cell_type": "code",
   "execution_count": 7,
   "metadata": {},
   "outputs": [],
   "source": [
    "import pandas as pd\n",
    "import numpy as np\n",
    "import matplotlib.pyplot as plt\n",
    "# import animate\n",
    "import matplotlib.animation as animation\n",
    "%matplotlib qt"
   ]
  },
  {
   "cell_type": "code",
   "execution_count": 22,
   "metadata": {},
   "outputs": [],
   "source": [
    "# u(x, y, t)\n",
    "# u_tt = c**2 Laplacian **2 * (u)\n",
    "# f(n, m) = c/2pi * sqrt(n**2/l_x**2 + m**2/l_y**2)\n",
    "# u(x,y,t) = U(x,y)*G(t)\n",
    "# U(x,y) approx |sin(n*pi*x/l_x)sin(m*pi*y/l_y) - sin(m*pi*x/l_x)sin(n*pi*y/l_y)|\n",
    "\n",
    "x = y = np.linspace(-1,1,1000)\n",
    "xv, yv = np.meshgrid(x, y)\n"
   ]
  },
  {
   "cell_type": "code",
   "execution_count": 24,
   "metadata": {},
   "outputs": [],
   "source": [
    "def amplitude(xv, yv, n,m):\n",
    "    return np.abs(np.sin(n*np.pi*xv/2) * np.sin(m*np.pi*yv/2) - np.sin(m*np.pi*xv/2) * np.sin(n*np.pi*yv/2))\n",
    "\n",
    "plt.pcolormesh(xv, yv, amplitude(xv, yv, 1,15))\n",
    "plt.show()"
   ]
  },
  {
   "cell_type": "code",
   "execution_count": 25,
   "metadata": {},
   "outputs": [
    {
     "data": {
      "text/plain": [
       "<matplotlib.collections.PathCollection at 0x1be0fdd87c0>"
      ]
     },
     "execution_count": 25,
     "metadata": {},
     "output_type": "execute_result"
    }
   ],
   "source": [
    "p = np.random.uniform(-1,1, size=(2,1000))\n",
    "plt.scatter(*p)"
   ]
  },
  {
   "cell_type": "code",
   "execution_count": 30,
   "metadata": {},
   "outputs": [],
   "source": [
    "class sand:\n",
    "    def __init__(self, N_points, amplitude, delta = 0.5):\n",
    "        self.N_points = N_points\n",
    "        self.amplitude = amplitude\n",
    "        self.delta = delta\n",
    "        self.points = np.random.uniform(-1,1, size=(2,N_points))\n",
    "    def move(self, **amplitude_params):\n",
    "        angles = np.random.uniform(0, 2*np.pi, size=self.N_points)\n",
    "        dr = self.delta * np.array((np.cos(angles), np.sin(angles))) * self.amplitude(*self.points, **amplitude_params) /2\n",
    "        self.prev_points = np.copy(self.points)\n",
    "        self.points += dr\n"
   ]
  },
  {
   "cell_type": "code",
   "execution_count": 37,
   "metadata": {},
   "outputs": [],
   "source": [
    "ensemble = sand(1000, amplitude)\n",
    "# ensemble.move(n=3, m=5)\n",
    "for i in range(100000):\n",
    "    ensemble.move(n=3, m=5)\n",
    "    plt.plot(*ensemble.points, 'o', ms=2)\n",
    "    plt.grid()\n",
    "    plt.xlim(-1,1)\n",
    "    plt.ylim(-1,1)\n",
    "    plt.show()"
   ]
  },
  {
   "cell_type": "code",
   "execution_count": 39,
   "metadata": {},
   "outputs": [],
   "source": [
    "fig, ax = plt.subplots(1,1, figsize=(10,10))\n",
    "ln1, = ax.plot([], [], 'o', ms=2)\n",
    "ax.set_xlim(-1, 1)\n",
    "ax.set_ylim(-1, 1)\n",
    "ax.set_facecolor('black')\n",
    "ax.axes.get_xaxis().set_visible(False)\n",
    "ax.axes.get_yaxis().set_visible(False)\n",
    "\n",
    "\n",
    "\n",
    "def animate(i):\n",
    "    if i%5 == 0:\n",
    "        if i <= 250:\n",
    "            ensemble.move(n=3, m=5) \n",
    "        elif i> 250:\n",
    "            ensemble.move(n=5, m=7)\n",
    "    points = ensemble.prev_points + (i%5)/5 * (ensemble.points - ensemble.prev_points)\n",
    "    ln1.set_data(*points)\n",
    "ensemble = sand(1000000, amplitude, 0.075)\n",
    "ani = animation.FuncAnimation(fig, animate, frames=500, interval=50)\n",
    "\n",
    "ani.save('sand.mp4', writer='ffmpeg', fps=25, dpi=200)"
   ]
  }
 ],
 "metadata": {
  "kernelspec": {
   "display_name": "base",
   "language": "python",
   "name": "python3"
  },
  "language_info": {
   "codemirror_mode": {
    "name": "ipython",
    "version": 3
   },
   "file_extension": ".py",
   "mimetype": "text/x-python",
   "name": "python",
   "nbconvert_exporter": "python",
   "pygments_lexer": "ipython3",
   "version": "3.9.16"
  }
 },
 "nbformat": 4,
 "nbformat_minor": 2
}
